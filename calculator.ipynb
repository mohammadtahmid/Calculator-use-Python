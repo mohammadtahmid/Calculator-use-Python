{
  "nbformat": 4,
  "nbformat_minor": 0,
  "metadata": {
    "colab": {
      "provenance": []
    },
    "kernelspec": {
      "name": "python3",
      "display_name": "Python 3"
    },
    "language_info": {
      "name": "python"
    }
  },
  "cells": [
    {
      "cell_type": "code",
      "execution_count": 2,
      "metadata": {
        "colab": {
          "base_uri": "https://localhost:8080/"
        },
        "id": "qzjJ44Qn10K3",
        "outputId": "29a28b88-8615-464d-a311-b8483743a2aa"
      },
      "outputs": [
        {
          "output_type": "stream",
          "name": "stdout",
          "text": [
            "Welcome to the Python Calculator!\n",
            "Select the operation you want to perform:\n",
            "1. Add\n",
            "2. Subtract\n",
            "3. Multiply\n",
            "4. Divide\n",
            "5. Modulus (Remainder)\n",
            "6. Exit\n",
            "Enter your choice (1/2/3/4/5/6): 6\n",
            "Exiting the calculator. Goodbye!\n"
          ]
        }
      ],
      "source": [
        "# Each operator\n",
        "def add(x, y):\n",
        "    return x + y\n",
        "\n",
        "def subtract(x, y):\n",
        "    return x - y\n",
        "\n",
        "def multiply(x, y):\n",
        "    return x * y\n",
        "\n",
        "def divide(x, y):\n",
        "    if y == 0:\n",
        "        return \"Error! Division by zero.\"\n",
        "    return x / y\n",
        "\n",
        "def modulus(x, y):\n",
        "    if y == 0:\n",
        "        return \"Error! Division by zero.\"\n",
        "    return x % y\n",
        "\n",
        "# calculator menu\n",
        "def calculator():\n",
        "    print(\"Welcome to the Python Calculator!\")\n",
        "    print(\"Select the operation you want to perform:\")\n",
        "    print(\"1. Add\")\n",
        "    print(\"2. Subtract\")\n",
        "    print(\"3. Multiply\")\n",
        "    print(\"4. Divide\")\n",
        "    print(\"5. Modulus (Remainder)\")\n",
        "    print(\"6. Exit\")\n",
        "\n",
        "    while True:\n",
        "        choice = input(\"Enter your choice (1/2/3/4/5/6): \")\n",
        "\n",
        "        if choice == '6':\n",
        "            print(\"Exiting the calculator. Goodbye!\")\n",
        "            break\n",
        "\n",
        "        # Which operator use\n",
        "        if choice in ['1', '2', '3', '4', '5']:\n",
        "            try:\n",
        "                # Take input\n",
        "                num1 = float(input(\"Enter the first number: \"))\n",
        "                num2 = float(input(\"Enter the second number: \"))\n",
        "            except ValueError:\n",
        "                print(\"Invalid input! Please enter numerical values.\")\n",
        "                continue\n",
        "\n",
        "            # operation exicute\n",
        "            if choice == '1':\n",
        "                print(f\"The result of {num1} + {num2} is: {add(num1, num2)}\")\n",
        "            elif choice == '2':\n",
        "                print(f\"The result of {num1} - {num2} is: {subtract(num1, num2)}\")\n",
        "            elif choice == '3':\n",
        "                print(f\"The result of {num1} * {num2} is: {multiply(num1, num2)}\")\n",
        "            elif choice == '4':\n",
        "                print(f\"The result of {num1} / {num2} is: {divide(num1, num2)}\")\n",
        "            elif choice == '5':\n",
        "                print(f\"The remainder of {num1} % {num2} is: {modulus(num1, num2)}\")\n",
        "        else:\n",
        "            print(\"Invalid choice! Please select a valid operation.\")\n",
        "\n",
        "# Run the calculator\n",
        "calculator()"
      ]
    }
  ]
}